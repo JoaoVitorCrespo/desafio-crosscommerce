{
 "cells": [
  {
   "cell_type": "markdown",
   "metadata": {},
   "source": [
    "# EXTRACT"
   ]
  },
  {
   "cell_type": "code",
   "execution_count": null,
   "metadata": {},
   "outputs": [],
   "source": [
    "import requests\n",
    "import time as t\n",
    "from flask import Flask\n",
    "from numpy import random"
   ]
  },
  {
   "cell_type": "code",
   "execution_count": null,
   "metadata": {},
   "outputs": [],
   "source": [
    "page = 1\n",
    "numbers = []\n",
    "condition = False"
   ]
  },
  {
   "cell_type": "code",
   "execution_count": null,
   "metadata": {},
   "outputs": [],
   "source": [
    "start = t.time()\n",
    "while(condition == False):\n",
    "    url = 'http://challenge.dienekes.com.br/api/numbers?page=' + str(page)\n",
    "    r = requests.get(url)\n",
    "    if r.status_code == 200:\n",
    "        data = r.json()\n",
    "        numbers += data['numbers']\n",
    "        if data['numbers'] == []:\n",
    "            condition = True\n",
    "            print('A extração de dados demorou: ' + str(t.time()-start) + ' segundos!')\n",
    "        else:\n",
    "            page+=1"
   ]
  },
  {
   "cell_type": "markdown",
   "metadata": {},
   "source": [
    "# TRANSFORM"
   ]
  },
  {
   "cell_type": "code",
   "execution_count": null,
   "metadata": {},
   "outputs": [],
   "source": [
    "def transform(numbers):\n",
    "    if len(numbers) > 1:\n",
    "        meio = len(numbers)//2\n",
    "        esquerda = numbers[:meio]\n",
    "        direita = numbers[meio:]\n",
    "        transform(esquerda)\n",
    "        transform(direita)\n",
    "        i = j = k = 0\n",
    "        while i < len(esquerda) and j < len(direita):\n",
    "            if esquerda[i] < direita [j]:\n",
    "                numbers[k] = esquerda[i]\n",
    "                i+= 1\n",
    "            else:\n",
    "                numbers[k] = direita[j]\n",
    "                j+=1\n",
    "            k += 1\n",
    "        while i < len(esquerda):\n",
    "            numbers[k] = esquerda[i]\n",
    "            i+=1\n",
    "            k+=1\n",
    "        while j < len(direita):\n",
    "            numbers[k] = direita[j]\n",
    "            j+=1\n",
    "            k+=1"
   ]
  },
  {
   "cell_type": "code",
   "execution_count": null,
   "metadata": {},
   "outputs": [],
   "source": [
    "start = t.time()\n",
    "transform(numbers)\n",
    "print('A ordenação dos dados demorou: ' + str(t.time()-start) + ' segundos!')"
   ]
  },
  {
   "cell_type": "markdown",
   "metadata": {},
   "source": [
    "# LOAD"
   ]
  },
  {
   "cell_type": "code",
   "execution_count": null,
   "metadata": {},
   "outputs": [],
   "source": [
    "app = Flask(\"Desafio\")\n",
    "@app.route('/')\n",
    "def transform():\n",
    "    return {\"numbers\": numbers}\n",
    "app.run()"
   ]
  },
  {
   "cell_type": "markdown",
   "metadata": {},
   "source": [
    "# TEST"
   ]
  },
  {
   "cell_type": "code",
   "execution_count": null,
   "metadata": {},
   "outputs": [],
   "source": [
    "def busca_binaria(arr, menor, maior, x):\n",
    "    if maior >= menor:\n",
    "        meio = (maior + menor) // 2\n",
    "        if arr[meio] == x:\n",
    "            return meio\n",
    "        elif arr[meio] > x:\n",
    "            return busca_binaria(arr, menor, meio-1, x)\n",
    "        else:\n",
    "            return busca_binaria(arr, meio+1, maior, x)\n",
    "    else:\n",
    "        return -1"
   ]
  },
  {
   "cell_type": "code",
   "execution_count": null,
   "metadata": {},
   "outputs": [],
   "source": [
    "pagina = random.randint(page)"
   ]
  },
  {
   "cell_type": "code",
   "execution_count": null,
   "metadata": {},
   "outputs": [],
   "source": [
    "url = 'http://challenge.dienekes.com.br/api/numbers?page=' + str(pagina)\n",
    "r = requests.get(url)\n",
    "if r.status_code == 200:\n",
    "    data = r.json()\n",
    "    teste = data['numbers'][random.randint(len(data['numbers']))]\n",
    "    if busca_binaria(numbers, 0, len(numbers)-1, teste) != -1:\n",
    "        print('Encontrado')\n",
    "    else:\n",
    "        print('Falhou')"
   ]
  }
 ],
 "metadata": {
  "kernelspec": {
   "display_name": "Python 3",
   "language": "python",
   "name": "python3"
  },
  "language_info": {
   "codemirror_mode": {
    "name": "ipython",
    "version": 3
   },
   "file_extension": ".py",
   "mimetype": "text/x-python",
   "name": "python",
   "nbconvert_exporter": "python",
   "pygments_lexer": "ipython3",
   "version": "3.7.3"
  }
 },
 "nbformat": 4,
 "nbformat_minor": 2
}
